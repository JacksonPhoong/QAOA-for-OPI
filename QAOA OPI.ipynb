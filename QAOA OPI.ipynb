{
 "cells": [
  {
   "cell_type": "code",
   "execution_count": 1,
   "id": "6ec4123a-00aa-4095-a628-2c207fda01a9",
   "metadata": {},
   "outputs": [],
   "source": [
    "import numpy as np\n",
    "from scipy.linalg import expm\n",
    "from scipy.optimize import minimize\n",
    "from scipy.stats import qmc\n",
    "import itertools\n",
    "import matplotlib.pyplot as plt\n",
    "import galois\n",
    "import time"
   ]
  },
  {
   "cell_type": "code",
   "execution_count": 2,
   "id": "55601d4d-b715-4487-81da-53537fcc86ef",
   "metadata": {},
   "outputs": [],
   "source": [
    "# def cost_hamiltonian(p, B, F_list):\n",
    "#     # implements the negation of  eq. (78) from DQI paper\n",
    "#     omega = np.exp(2j * np.pi / p) # p-th root of unity\n",
    "#     m, n = B.shape\n",
    "#     dim = p ** n\n",
    "#     diag_elements = np.zeros(dim, dtype=complex)\n",
    "    \n",
    "#     # since the generalised Z matrix is diagonal, to apply the matrix to the state,\n",
    "#     # don't need to build the whole matrix but just get the diagonal elements of the tensor product\n",
    "#     for i in range(m):\n",
    "#         for v in F_list[i]:\n",
    "#             for a in range(p):\n",
    "#                 Z = np.zeros(dim, dtype=complex)\n",
    "#                 for idx in range(dim):\n",
    "#                     digits = [int(d, base=p) for d in np.base_repr(idx, base=p).zfill(n)]\n",
    "#                     exponent = np.sum([a * B[i][j] * digits[j] for j in range(n)] + [-a * v]) % p\n",
    "#                     Z[idx] = omega ** exponent\n",
    "#                 diag_elements = diag_elements + Z\n",
    "#     return -np.real_if_close(diag_elements) / p\n",
    "\n",
    "def cost_hamiltonian(p, B, F_list):\n",
    "    # implements the negation of eq. (75) from DQI paper\n",
    "    m, n = B.shape\n",
    "    diag_elements = np.zeros(p ** n)\n",
    "\n",
    "    # since the generalised Z matrix is diagonal, to apply the matrix to the state,\n",
    "    # don't need to build the whole matrix but just get the diagonal elements of the tensor product\n",
    "    for idx, x in enumerate(itertools.product(range(p), repeat=n)):\n",
    "        v = B @ GF(x)\n",
    "        n_satisfied = sum([v[i] in F_list[i] for i in range(m)])\n",
    "        diag_elements[idx] = n_satisfied\n",
    "\n",
    "    return -diag_elements"
   ]
  },
  {
   "cell_type": "code",
   "execution_count": 3,
   "id": "e324a044-5d15-4a86-87e7-6be426b72007",
   "metadata": {},
   "outputs": [],
   "source": [
    "def mixing_hamiltonian(n, p):\n",
    "    # the generalised shift/Pauli X operator is not Hermitian when p > 2\n",
    "    X = np.zeros((p, p))\n",
    "    for i in range(p):\n",
    "        X[(i + 1) % p, i] = 1\n",
    "        \n",
    "    dim = p ** n\n",
    "    I = np.eye(p)\n",
    "    mixing_h = np.zeros((dim, dim))\n",
    "    for i in range(n):\n",
    "        ops = [I] * n\n",
    "        ops[i] = X\n",
    "        tensor_prod = ops[0]\n",
    "        for op in ops[1:]:\n",
    "            tensor_prod = np.kron(tensor_prod, op)\n",
    "        mixing_h += tensor_prod + tensor_prod.T # need to make it Hermitian by adding its adjoint\n",
    "    return mixing_h"
   ]
  },
  {
   "cell_type": "code",
   "execution_count": 4,
   "id": "72c25301-0a82-4190-9dfc-74ca21d71bc7",
   "metadata": {},
   "outputs": [],
   "source": [
    "def simulate_qaoa_qudits(params, n_layers, n_params_per_layer, cost_h, mixing_eigvals, mixing_eigvecs, initial_state):\n",
    "    state = initial_state\n",
    "    for layer in range(n_layers):\n",
    "        cost_unitary = np.exp(-1j * params[layer * n_params_per_layer] * cost_h) # vector\n",
    "        mixing_unitary = mixing_eigvecs @ np.diag(np.exp(-1j * params[layer * n_params_per_layer + 1] * mixing_eigvals)) @ mixing_eigvecs.conj().T # matrix\n",
    "        state = mixing_unitary @ (cost_unitary * state)\n",
    "    return state"
   ]
  },
  {
   "cell_type": "code",
   "execution_count": 5,
   "id": "e5c1b3e6-62b8-40e9-bcb2-77d5f87011d8",
   "metadata": {},
   "outputs": [],
   "source": [
    "def cost_function(params, n_layers, n_params_per_layer, cost_h, mixing_eigvals, mixing_eigvecs, initial_state):\n",
    "    state = simulate_qaoa_qudits(params, n_layers, n_params_per_layer, cost_h, mixing_eigvals, mixing_eigvecs, initial_state)\n",
    "    return np.real(np.vdot(state, cost_h * state))"
   ]
  },
  {
   "cell_type": "code",
   "execution_count": 6,
   "id": "fc39aee2-af2f-49c1-ac38-b32cb1445eab",
   "metadata": {},
   "outputs": [],
   "source": [
    "def display_results(sat_fractions, final_state, p, B, first=25):\n",
    "    print(\"Best expected SAT fraction:\", max(sat_fractions))\n",
    "\n",
    "    m, n = B.shape\n",
    "    l = (n + 1) // 2\n",
    "    print(\"DQI paper semicircle law result:\", 1 / 2 + np.sqrt(l / m * (1 - l / m)))\n",
    "    \n",
    "    prob_dist = abs(final_state) ** 2\n",
    "    dim = p ** n\n",
    "    coeffs = np.array(list(itertools.product(range(p), repeat=n)))\n",
    "    plt.bar(range(dim), prob_dist)\n",
    "    plt.xticks(range(dim), coeffs)\n",
    "    plt.show()\n",
    "    \n",
    "    sorted_indices = np.flip(np.argsort(prob_dist))[:first]\n",
    "    GF = galois.GF(p)\n",
    "    for x, prob in zip(coeffs[sorted_indices], prob_dist[sorted_indices]):\n",
    "        v = B @ GF(x)\n",
    "        n_satisfied = sum([v[i] in F_list[i] for i in range(m)])\n",
    "        print(\"coeffs:\", x, \"satisfying\", n_satisfied, \"constraints with probability\", prob)"
   ]
  },
  {
   "cell_type": "code",
   "execution_count": 7,
   "id": "72fe8dc8-e80c-4599-8b86-87afd4265dd4",
   "metadata": {},
   "outputs": [],
   "source": [
    "def verification(p, B, F_list):\n",
    "    m, n = B.shape\n",
    "    GF = galois.GF(p)\n",
    "    v_dict = {}\n",
    "    n_satisfied_dict = {}\n",
    "    for x in itertools.product(range(p), repeat=n):\n",
    "        v = B @ GF(x)\n",
    "        v_dict[x] = v\n",
    "        n_satisfied = sum([v[i] in F_list[i] for i in range(m)])\n",
    "        n_satisfied_dict[x] = n_satisfied\n",
    "    max_satisfied = max(n_satisfied_dict.values())\n",
    "    max_satisfied_coeffs = [key for key, val in n_satisfied_dict.items() if val == max_satisfied]\n",
    "    \n",
    "    return max_satisfied_coeffs, max_satisfied, v_dict, n_satisfied_dict"
   ]
  },
  {
   "cell_type": "code",
   "execution_count": 8,
   "id": "4576da30-74c5-478c-91f3-bddad440dc2c",
   "metadata": {},
   "outputs": [],
   "source": [
    "p = 23 # prime number for the finite field\n",
    "m = p - 1 # number of constraints, generally for max-LINSAT, m can be any integer, OPI is a special case with m = p - 1\n",
    "n = 2 # number of coefficients in the polynomial of degree n - 1\n",
    "GF = galois.GF(p)\n",
    "primitives = GF.primitive_elements\n",
    "primitive = primitives[0]\n",
    "B = GF.Vandermonde(primitive, m, n) # B has a special structure known as Vandermonde matrix for OPI\n",
    "\n",
    "r = p // 2\n",
    "rng = np.random.default_rng(151609)\n",
    "F_list = [rng.permutation(p)[:r] for i in range(m)] # subsets of the finite field that the polynomial should intersect at each point\n",
    "# F_list = [[primitive ** i, primitive ** i + GF(4)] for i in range(m)] \n",
    "# F_list = [[1, 2], [3, 4], [0, 4], [2, 3]]\n",
    "n_layers = 1\n",
    "n_params_per_layer = 2\n",
    "n_trials = 128\n",
    "\n",
    "cost_h = cost_hamiltonian(p, B, F_list)\n",
    "mixing_h = mixing_hamiltonian(n, p)\n",
    "mixing_eigvals, mixing_eigvecs = np.linalg.eigh(mixing_h)\n",
    "initial_state = np.ones(p ** n, dtype=np.complex64)/np.sqrt(p ** n) # |+> state for each qudit (uniform superposition)"
   ]
  },
  {
   "cell_type": "code",
   "execution_count": 9,
   "id": "26361bd0-83de-4541-9ac4-59f001d3541f",
   "metadata": {},
   "outputs": [],
   "source": [
    "def optimize(n_layers, n_params_per_layer, n_trials, cost_h, mixing_eigvals, mixing_eigvecs, initial_state):\n",
    "    n_params = n_layers * n_params_per_layer\n",
    "    all_params = np.zeros((n_trials, n_params))\n",
    "    for layer in range(n_layers):\n",
    "        sampler = qmc.Sobol(d=n_params_per_layer, scramble=True, seed=123 * (layer + 1))\n",
    "        all_params[:, layer * n_params_per_layer : layer * n_params_per_layer + 2] = 2 * np.pi * sampler.random(n_trials)\n",
    "    \n",
    "    bounds = [(0, 2 * np.pi)] * n_params\n",
    "    sat_fractions = np.zeros(n_trials)\n",
    "    success_list = [0] * n_trials\n",
    "    status_array = np.zeros(n_trials)\n",
    "    nit_array = np.zeros(n_trials)\n",
    "    for t in range(n_trials):\n",
    "        params = all_params[t]\n",
    "        results = minimize(\n",
    "            lambda x: cost_function(x, n_layers, n_params_per_layer, cost_h, mixing_eigvals, mixing_eigvecs, initial_state),\n",
    "            x0=params,\n",
    "            method='L-BFGS-B',\n",
    "            bounds=bounds,\n",
    "            options={'maxiter': 100}\n",
    "        )\n",
    "        opt_params = results.x\n",
    "        all_params[t] = opt_params\n",
    "        sat_fractions[t] = -results.fun / m\n",
    "        success_list[t] = results.success\n",
    "        status_array[t] = results.status\n",
    "        nit_array[t] = results.nit\n",
    "\n",
    "    return all_params, sat_fractions, success_list, status_array, nit_array"
   ]
  },
  {
   "cell_type": "code",
   "execution_count": 10,
   "id": "65fd9941-9fd8-4664-828e-ff1e2723dda9",
   "metadata": {},
   "outputs": [
    {
     "name": "stdout",
     "output_type": "stream",
     "text": [
      "Best expected SAT fraction: 0.5517264561945422\n",
      "DQI paper semicircle law result: 0.7082988952252655\n"
     ]
    },
    {
     "data": {
      "image/png": "[encoded data removed]",
      "text/plain": [
       "<Figure size 640x480 with 1 Axes>"
      ]
     },
     "metadata": {},
     "output_type": "display_data"
    },
    {
     "name": "stdout",
     "output_type": "stream",
     "text": [
      "coeffs: [12 19] satisfying 9 constraints with probability 0.008752702848932729\n",
      "coeffs: [19  2] satisfying 12 constraints with probability 0.008732929759890685\n",
      "coeffs: [11  4] satisfying 11 constraints with probability 0.008360955098075178\n",
      "coeffs: [22  4] satisfying 10 constraints with probability 0.00797096681553254\n",
      "coeffs: [ 6 10] satisfying 15 constraints with probability 0.007970271188592837\n",
      "coeffs: [16  8] satisfying 11 constraints with probability 0.007811376836938135\n",
      "coeffs: [ 3 10] satisfying 14 constraints with probability 0.0076280312505969065\n",
      "coeffs: [13 11] satisfying 14 constraints with probability 0.007264829009770272\n",
      "coeffs: [2 8] satisfying 12 constraints with probability 0.007156880997127307\n",
      "coeffs: [0 8] satisfying 12 constraints with probability 0.007087681075147255\n",
      "coeffs: [20 19] satisfying 13 constraints with probability 0.0069230708786696465\n",
      "coeffs: [19 22] satisfying 12 constraints with probability 0.0069152268734579215\n",
      "coeffs: [ 6 20] satisfying 11 constraints with probability 0.00680244728064735\n",
      "coeffs: [13 17] satisfying 11 constraints with probability 0.006766058733645185\n",
      "coeffs: [10 20] satisfying 13 constraints with probability 0.006615086247823293\n",
      "coeffs: [22 14] satisfying 10 constraints with probability 0.006593974352078302\n",
      "coeffs: [9 5] satisfying 14 constraints with probability 0.006591774819094861\n",
      "coeffs: [9 8] satisfying 10 constraints with probability 0.006514873888566773\n",
      "coeffs: [ 5 18] satisfying 9 constraints with probability 0.00650682469587982\n",
      "coeffs: [19 12] satisfying 12 constraints with probability 0.006475159376343277\n",
      "coeffs: [13  1] satisfying 10 constraints with probability 0.0064723279443647235\n",
      "coeffs: [12  8] satisfying 13 constraints with probability 0.006418565380912066\n",
      "coeffs: [ 3 20] satisfying 9 constraints with probability 0.006253644669722904\n",
      "coeffs: [17  2] satisfying 11 constraints with probability 0.006249387070409699\n",
      "coeffs: [ 4 17] satisfying 16 constraints with probability 0.006214989195644826\n"
     ]
    }
   ],
   "source": [
    "opt_params, sat_fractions, success_list, status_array, nit_array = optimize(n_layers, n_params_per_layer, n_trials, cost_h, mixing_eigvals, mixing_eigvecs, initial_state)\n",
    "final_state = simulate_qaoa_qudits(opt_params[-1], n_layers, n_params_per_layer, cost_h, mixing_eigvals, mixing_eigvecs, initial_state)\n",
    "display_results(sat_fractions, final_state, p, B)"
   ]
  },
  {
   "cell_type": "code",
   "execution_count": 11,
   "id": "d3293d06-97b3-4a93-861a-9cf5c94f350c",
   "metadata": {},
   "outputs": [
    {
     "name": "stdout",
     "output_type": "stream",
     "text": [
      "coeffs that satify max number of constraints: [(10, 6), (15, 14), (18, 19)]\n",
      "max number of satisfied constraints: 17\n"
     ]
    }
   ],
   "source": [
    "expected_results, max_satisfied, output_dict, n_satisfied_dict = verification(p, B, F_list)\n",
    "print(\"coeffs that satify max number of constraints:\", expected_results)\n",
    "print(\"max number of satisfied constraints:\", max_satisfied)\n",
    "# print(output_dict)\n",
    "# print(n_satisfied_dict)"
   ]
  },
  {
   "cell_type": "code",
   "execution_count": null,
   "id": "094f79b3-67a2-419e-8f70-b2873e8c2278",
   "metadata": {},
   "outputs": [],
   "source": []
  }
 ],
 "metadata": {
  "kernelspec": {
   "display_name": "Python 3 (ipykernel)",
   "language": "python",
   "name": "python3"
  },
  "language_info": {
   "codemirror_mode": {
    "name": "ipython",
    "version": 3
   },
   "file_extension": ".py",
   "mimetype": "text/x-python",
   "name": "python",
   "nbconvert_exporter": "python",
   "pygments_lexer": "ipython3",
   "version": "3.12.7"
  }
 },
 "nbformat": 4,
 "nbformat_minor": 5
}
