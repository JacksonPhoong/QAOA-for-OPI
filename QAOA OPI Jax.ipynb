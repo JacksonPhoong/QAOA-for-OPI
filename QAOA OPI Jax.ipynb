{
 "cells": [
  {
   "cell_type": "code",
   "execution_count": 1,
   "id": "85bbb3b0-ce68-4e0d-90ce-adefdca42291",
   "metadata": {},
   "outputs": [],
   "source": [
    "import numpy as np\n",
    "import jax\n",
    "from jax import numpy as jnp\n",
    "from jax import scipy as jsp\n",
    "import jaxopt\n",
    "import matplotlib.pyplot as plt\n",
    "import galois\n",
    "\n",
    "import itertools\n",
    "from functools import partial\n",
    "import time"
   ]
  },
  {
   "cell_type": "code",
   "execution_count": 2,
   "id": "1e362d6f-84ba-4ec2-a88e-507a54fb2a8b",
   "metadata": {},
   "outputs": [],
   "source": [
    "def cost_hamiltonian(p, B, F_list):\n",
    "    # implements the negation of eq. (75) from DQI paper\n",
    "    m, n = B.shape\n",
    "    diag_elements = np.zeros(p ** n)\n",
    "\n",
    "    # since the generalised Z matrix is diagonal, to apply the matrix to the state,\n",
    "    # don't need to build the whole matrix but just get the diagonal elements of the tensor product\n",
    "    for idx, x in enumerate(itertools.product(range(p), repeat=n)):\n",
    "        v = B @ GF(x)\n",
    "        n_satisfied = sum([v[i] in F_list[i] for i in range(m)])\n",
    "        diag_elements[idx] = n_satisfied\n",
    "\n",
    "    return jnp.array(-diag_elements)"
   ]
  },
  {
   "cell_type": "code",
   "execution_count": 3,
   "id": "ec051a78-fe0e-4060-9e4f-252230045376",
   "metadata": {},
   "outputs": [],
   "source": [
    "def mixing_hamiltonian(n, p):\n",
    "    # the generalised shift/Pauli X operator is not Hermitian when p > 2\n",
    "    X = np.zeros((p, p))\n",
    "    for i in range(p):\n",
    "        X[(i + 1) % p, i] = 1\n",
    "        \n",
    "    dim = p ** n\n",
    "    I = np.eye(p)\n",
    "    mixing_h = np.zeros((dim, dim))\n",
    "    for i in range(n):\n",
    "        ops = [I] * n\n",
    "        ops[i] = X\n",
    "        tensor_prod = ops[0]\n",
    "        for op in ops[1:]:\n",
    "            tensor_prod = np.kron(tensor_prod, op)\n",
    "        mixing_h += tensor_prod + tensor_prod.T # need to make it Hermitian by adding its adjoint\n",
    "    return jnp.array(mixing_h)"
   ]
  },
  {
   "cell_type": "code",
   "execution_count": 4,
   "id": "94d44715-6487-455e-b682-5a3433d1e16a",
   "metadata": {},
   "outputs": [],
   "source": [
    "@partial(jax.jit, static_argnames=[\"n_layers\", \"n_params_per_layer\"])\n",
    "def simulate_qaoa_qudits(params, n_layers, n_params_per_layer, cost_h, mixing_eigvals, mixing_eigvecs, initial_state):\n",
    "    state = initial_state\n",
    "    for layer in range(n_layers):\n",
    "        cost_unitary = jnp.exp(-1j * params[layer * n_params_per_layer] * cost_h) # vector\n",
    "        mixing_unitary = mixing_eigvecs @ jnp.diag(jnp.exp(-1j * params[layer * n_params_per_layer + 1] * mixing_eigvals)) @ mixing_eigvecs.conj().T # matrix\n",
    "        state = mixing_unitary @ (cost_unitary * state)\n",
    "    return state"
   ]
  },
  {
   "cell_type": "code",
   "execution_count": 5,
   "id": "8f504dcf-e91c-4cca-9e6b-e0f9a6f13241",
   "metadata": {},
   "outputs": [],
   "source": [
    "@partial(jax.jit, static_argnames=[\"n_layers\", \"n_params_per_layer\"])\n",
    "def cost_function(params, n_layers, n_params_per_layer, cost_h, mixing_eigvals, mixing_eigvecs, initial_state):\n",
    "    state = simulate_qaoa_qudits(params, n_layers, n_params_per_layer, cost_h, mixing_eigvals, mixing_eigvecs, initial_state)\n",
    "    return jnp.real(jnp.vdot(state, cost_h * state))"
   ]
  },
  {
   "cell_type": "code",
   "execution_count": 6,
   "id": "0d185e5d-4bc9-4cda-acc0-ba765573d78a",
   "metadata": {},
   "outputs": [],
   "source": [
    "def optimize(n_layers, n_params_per_layer, n_trials, cost_h, mixing_eigvals, mixing_eigvecs, initial_state):\n",
    "    n_params = n_layers * n_params_per_layer\n",
    "    key = jax.random.key(123)\n",
    "    lower_bounds = jnp.zeros(n_params)\n",
    "    upper_bounds = jnp.ones(n_params) * 2 * jnp.pi\n",
    "    all_params = jax.random.uniform(key, shape = (n_trials, n_params), minval=lower_bounds, maxval=upper_bounds)\n",
    "    \n",
    "    sat_fractions = jnp.zeros(n_trials)\n",
    "    success_list = [0] * n_trials\n",
    "    status_array = jnp.zeros_like(sat_fractions)\n",
    "    num_fun_eval_array = jnp.zeros_like(sat_fractions)\n",
    "    for t in range(n_trials):\n",
    "        params = all_params[t]\n",
    "        # TO DO: change the optimiser here to run using GPU\n",
    "        lbfgsb = jaxopt.ScipyBoundedMinimize(fun=lambda x: cost_function(x, n_layers, n_params_per_layer, cost_h, mixing_eigvals, mixing_eigvecs, initial_state), method=\"L-BFGS-B\")\n",
    "        opt_params, optstep = lbfgsb.run(params, bounds=(lower_bounds, upper_bounds))\n",
    "        all_params = all_params.at[t].set(opt_params)\n",
    "        sat_fractions = sat_fractions.at[t].set(-optstep.fun_val / m)\n",
    "        success_list[t] = optstep.success\n",
    "        status_array = status_array.at[t].set(optstep.status)\n",
    "        num_fun_eval_array = num_fun_eval_array.at[t].set(optstep.num_fun_eval)\n",
    "           \n",
    "    return all_params, sat_fractions, success_list, status_array, num_fun_eval_array"
   ]
  },
  {
   "cell_type": "code",
   "execution_count": 7,
   "id": "5a196a01-6030-4bdd-90bb-a8b30dd3ffb6",
   "metadata": {},
   "outputs": [],
   "source": [
    "def display_results(sat_fractions, final_state, p, B, first=25):\n",
    "    print(\"Best expected SAT fraction:\", max(sat_fractions))\n",
    "\n",
    "    m, n = B.shape\n",
    "    l = (n + 1) // 2\n",
    "    print(\"DQI paper semicircle law result:\", 1 / 2 + jnp.sqrt(l / m * (1 - l / m)))\n",
    "    \n",
    "    prob_dist = abs(final_state) ** 2\n",
    "    dim = p ** n\n",
    "    coeffs = np.array(list(itertools.product(range(p), repeat=n)))\n",
    "    plt.bar(range(dim), prob_dist)\n",
    "    plt.xticks(range(dim), coeffs)\n",
    "    plt.show()\n",
    "    \n",
    "    sorted_indices = np.flip(jnp.argsort(prob_dist))[:first]\n",
    "    GF = galois.GF(p)\n",
    "    for x, prob in zip(coeffs[sorted_indices], prob_dist[sorted_indices]):\n",
    "        v = B @ GF(x)\n",
    "        n_satisfied = sum([v[i] in F_list[i] for i in range(m)])\n",
    "        print(\"coeffs:\", x, \"satisfying\", n_satisfied, \"constraints with probability\", prob)"
   ]
  },
  {
   "cell_type": "code",
   "execution_count": 8,
   "id": "2eac778a-cee7-42e1-a0c1-ddad222a2da6",
   "metadata": {},
   "outputs": [],
   "source": [
    "def verification(p, B, F_list):\n",
    "    m, n = B.shape\n",
    "    GF = galois.GF(p)\n",
    "    v_dict = {}\n",
    "    n_satisfied_dict = {}\n",
    "    for x in itertools.product(range(p), repeat=n):\n",
    "        v = B @ GF(x)\n",
    "        v_dict[x] = v\n",
    "        n_satisfied = sum([v[i] in F_list[i] for i in range(m)])\n",
    "        n_satisfied_dict[x] = n_satisfied\n",
    "    max_satisfied = max(n_satisfied_dict.values())\n",
    "    max_satisfied_coeffs = [key for key, val in n_satisfied_dict.items() if val == max_satisfied]\n",
    "    \n",
    "    return max_satisfied_coeffs, max_satisfied, v_dict, n_satisfied_dict"
   ]
  },
  {
   "cell_type": "code",
   "execution_count": 9,
   "id": "d23185d7-704d-40a2-b907-aa21cb8c72ce",
   "metadata": {},
   "outputs": [],
   "source": [
    "p = 23 # prime number for the finite field\n",
    "m = p - 1 # number of constraints, generally for max-LINSAT, m can be any integer, OPI is a special case with m = p - 1\n",
    "n = 2 # number of coefficients in the polynomial of degree n - 1\n",
    "GF = galois.GF(p)\n",
    "primitives = GF.primitive_elements\n",
    "primitive = primitives[0]\n",
    "B = GF.Vandermonde(primitive, m, n) # B has a special structure known as Vandermonde matrix for OPI\n",
    "\n",
    "r = p // 2\n",
    "rng = np.random.default_rng(151609)\n",
    "F_list = [rng.permutation(p)[:r] for i in range(m)] # subsets of the finite field that the polynomial should intersect at each point\n",
    "F_list = jnp.array(F_list)\n",
    "# F_list = [[primitive ** i, primitive ** i + GF(4)] for i in range(m)] \n",
    "# F_list = [[1, 2], [3, 4], [0, 4], [2, 3]]\n",
    "n_layers = 1\n",
    "n_params_per_layer = 2\n",
    "n_trials = 1\n",
    "\n",
    "cost_h = cost_hamiltonian(p, B, F_list)\n",
    "mixing_h = mixing_hamiltonian(n, p)\n",
    "mixing_eigvals, mixing_eigvecs = jnp.linalg.eigh(mixing_h)\n",
    "initial_state = jnp.ones(p ** n, dtype=jnp.complex64)/jnp.sqrt(p ** n) # |+> state for each qudit (uniform superposition)"
   ]
  },
  {
   "cell_type": "code",
   "execution_count": 10,
   "id": "3dc99065-8de1-451b-bd35-050c76b8c442",
   "metadata": {
    "scrolled": true
   },
   "outputs": [
    {
     "name": "stdout",
     "output_type": "stream",
     "text": [
      "Best expected SAT fraction: 0.48953083\n",
      "DQI paper semicircle law result: 0.7082989\n"
     ]
    },
    {
     "data": {
      "image/png": "[encoded data removed]",
      "text/plain": [
       "<Figure size 640x480 with 1 Axes>"
      ]
     },
     "metadata": {},
     "output_type": "display_data"
    },
    {
     "name": "stdout",
     "output_type": "stream",
     "text": [
      "coeffs: [9 9] satisfying 9 constraints with probability 0.012696321\n",
      "coeffs: [1 4] satisfying 10 constraints with probability 0.010885948\n",
      "coeffs: [10  6] satisfying 17 constraints with probability 0.008676648\n",
      "coeffs: [5 3] satisfying 12 constraints with probability 0.008616094\n",
      "coeffs: [12 17] satisfying 10 constraints with probability 0.008367635\n",
      "coeffs: [13  5] satisfying 7 constraints with probability 0.007864554\n",
      "coeffs: [10 20] satisfying 13 constraints with probability 0.007792113\n",
      "coeffs: [10  1] satisfying 11 constraints with probability 0.0075884764\n",
      "coeffs: [1 0] satisfying 11 constraints with probability 0.007378393\n",
      "coeffs: [ 9 18] satisfying 13 constraints with probability 0.006989269\n",
      "coeffs: [14 11] satisfying 11 constraints with probability 0.0067618624\n",
      "coeffs: [ 5 16] satisfying 10 constraints with probability 0.0067115403\n",
      "coeffs: [7 7] satisfying 14 constraints with probability 0.006530219\n",
      "coeffs: [11  6] satisfying 12 constraints with probability 0.006525613\n",
      "coeffs: [ 6 15] satisfying 11 constraints with probability 0.006485699\n",
      "coeffs: [6 6] satisfying 15 constraints with probability 0.00630539\n",
      "coeffs: [ 9 22] satisfying 13 constraints with probability 0.0062327795\n",
      "coeffs: [7 3] satisfying 11 constraints with probability 0.0062172874\n",
      "coeffs: [6 0] satisfying 10 constraints with probability 0.0061909375\n",
      "coeffs: [ 9 19] satisfying 13 constraints with probability 0.0061530783\n",
      "coeffs: [21  6] satisfying 15 constraints with probability 0.006143537\n",
      "coeffs: [2 8] satisfying 12 constraints with probability 0.006017234\n",
      "coeffs: [10 18] satisfying 14 constraints with probability 0.0060163094\n",
      "coeffs: [17 12] satisfying 15 constraints with probability 0.0060105594\n",
      "coeffs: [ 7 14] satisfying 9 constraints with probability 0.005937697\n"
     ]
    }
   ],
   "source": [
    "opt_params_array, sat_fractions, success_list, status_array, num_fun_eval_array = optimize(n_layers, n_params_per_layer, n_trials, cost_h, mixing_eigvals, mixing_eigvecs, initial_state)\n",
    "opt_params_array.block_until_ready()\n",
    "final_state = simulate_qaoa_qudits(opt_params_array[-1], n_layers, n_params_per_layer, cost_h, mixing_eigvals, mixing_eigvecs, initial_state).block_until_ready()\n",
    "display_results(sat_fractions, final_state, p, B)"
   ]
  },
  {
   "cell_type": "code",
   "execution_count": 11,
   "id": "1a581957-8389-4aee-ba1c-35aae3757d9f",
   "metadata": {},
   "outputs": [
    {
     "name": "stdout",
     "output_type": "stream",
     "text": [
      "coeffs that satify max number of constraints: [(10, 6), (15, 14), (18, 19)]\n",
      "max number of satisfied constraints: 17\n"
     ]
    }
   ],
   "source": [
    "max_satisfied_coeffs, max_satisfied, v_dict, n_satisfied_dict = verification(p, B, F_list)\n",
    "print(\"coeffs that satify max number of constraints:\", max_satisfied_coeffs)\n",
    "print(\"max number of satisfied constraints:\", max_satisfied)\n",
    "# print(v_dict)\n",
    "# print(n_satisfied_dict)"
   ]
  }
 ],
 "metadata": {
  "kernelspec": {
   "display_name": "Python 3 (ipykernel)",
   "language": "python",
   "name": "python3"
  },
  "language_info": {
   "codemirror_mode": {
    "name": "ipython",
    "version": 3
   },
   "file_extension": ".py",
   "mimetype": "text/x-python",
   "name": "python",
   "nbconvert_exporter": "python",
   "pygments_lexer": "ipython3",
   "version": "3.12.7"
  }
 },
 "nbformat": 4,
 "nbformat_minor": 5
}
